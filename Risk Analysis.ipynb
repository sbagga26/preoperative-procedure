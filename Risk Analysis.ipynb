{
 "cells": [
  {
   "cell_type": "code",
   "execution_count": 3,
   "metadata": {},
   "outputs": [],
   "source": [
    "import numpy as np\n",
    "import pandas as pd\n",
    "import pylab as pl\n",
    "import matplotlib.pyplot as plt\n",
    "import patsy\n",
    "import sklearn\n",
    "from patsy import dmatrices\n",
    "from sklearn.linear_model import LogisticRegression\n",
    "from sklearn.linear_model import LinearRegression\n",
    "from sklearn.cross_validation import train_test_split\n",
    "from sklearn import metrics\n",
    "from sklearn.cross_validation import cross_val_score"
   ]
  },
  {
   "cell_type": "code",
   "execution_count": 4,
   "metadata": {},
   "outputs": [
    {
     "data": {
      "text/html": [
       "<div>\n",
       "<style scoped>\n",
       "    .dataframe tbody tr th:only-of-type {\n",
       "        vertical-align: middle;\n",
       "    }\n",
       "\n",
       "    .dataframe tbody tr th {\n",
       "        vertical-align: top;\n",
       "    }\n",
       "\n",
       "    .dataframe thead th {\n",
       "        text-align: right;\n",
       "    }\n",
       "</style>\n",
       "<table border=\"1\" class=\"dataframe\">\n",
       "  <thead>\n",
       "    <tr style=\"text-align: right;\">\n",
       "      <th></th>\n",
       "      <th>ASA</th>\n",
       "      <th>morbidity_n7</th>\n",
       "      <th>morbidity_per7</th>\n",
       "      <th>mortality_n7</th>\n",
       "      <th>mortality_per7</th>\n",
       "    </tr>\n",
       "  </thead>\n",
       "  <tbody>\n",
       "    <tr>\n",
       "      <th>0</th>\n",
       "      <td>1</td>\n",
       "      <td>100</td>\n",
       "      <td>3.900</td>\n",
       "      <td>100</td>\n",
       "      <td>0.000</td>\n",
       "    </tr>\n",
       "    <tr>\n",
       "      <th>1</th>\n",
       "      <td>1</td>\n",
       "      <td>23071</td>\n",
       "      <td>4.500</td>\n",
       "      <td>0</td>\n",
       "      <td>0.000</td>\n",
       "    </tr>\n",
       "    <tr>\n",
       "      <th>2</th>\n",
       "      <td>1</td>\n",
       "      <td>92227</td>\n",
       "      <td>4.600</td>\n",
       "      <td>1</td>\n",
       "      <td>0.001</td>\n",
       "    </tr>\n",
       "    <tr>\n",
       "      <th>3</th>\n",
       "      <td>1</td>\n",
       "      <td>43964</td>\n",
       "      <td>7.000</td>\n",
       "      <td>32</td>\n",
       "      <td>0.073</td>\n",
       "    </tr>\n",
       "    <tr>\n",
       "      <th>4</th>\n",
       "      <td>1</td>\n",
       "      <td>100</td>\n",
       "      <td>5.200</td>\n",
       "      <td>100</td>\n",
       "      <td>0.600</td>\n",
       "    </tr>\n",
       "    <tr>\n",
       "      <th>5</th>\n",
       "      <td>2</td>\n",
       "      <td>104997</td>\n",
       "      <td>10.900</td>\n",
       "      <td>2</td>\n",
       "      <td>0.502</td>\n",
       "    </tr>\n",
       "    <tr>\n",
       "      <th>6</th>\n",
       "      <td>2</td>\n",
       "      <td>367161</td>\n",
       "      <td>11.000</td>\n",
       "      <td>9</td>\n",
       "      <td>0.782</td>\n",
       "    </tr>\n",
       "    <tr>\n",
       "      <th>7</th>\n",
       "      <td>2</td>\n",
       "      <td>10626</td>\n",
       "      <td>12.600</td>\n",
       "      <td>24</td>\n",
       "      <td>0.226</td>\n",
       "    </tr>\n",
       "    <tr>\n",
       "      <th>8</th>\n",
       "      <td>2</td>\n",
       "      <td>100</td>\n",
       "      <td>12.600</td>\n",
       "      <td>100</td>\n",
       "      <td>1.100</td>\n",
       "    </tr>\n",
       "    <tr>\n",
       "      <th>9</th>\n",
       "      <td>2</td>\n",
       "      <td>100</td>\n",
       "      <td>11.400</td>\n",
       "      <td>100</td>\n",
       "      <td>1.600</td>\n",
       "    </tr>\n",
       "    <tr>\n",
       "      <th>10</th>\n",
       "      <td>3</td>\n",
       "      <td>195829</td>\n",
       "      <td>23.000</td>\n",
       "      <td>54</td>\n",
       "      <td>0.028</td>\n",
       "    </tr>\n",
       "    <tr>\n",
       "      <th>11</th>\n",
       "      <td>3</td>\n",
       "      <td>80649</td>\n",
       "      <td>20.200</td>\n",
       "      <td>28</td>\n",
       "      <td>0.035</td>\n",
       "    </tr>\n",
       "    <tr>\n",
       "      <th>12</th>\n",
       "      <td>3</td>\n",
       "      <td>2928</td>\n",
       "      <td>24.281</td>\n",
       "      <td>42</td>\n",
       "      <td>1.434</td>\n",
       "    </tr>\n",
       "    <tr>\n",
       "      <th>13</th>\n",
       "      <td>3</td>\n",
       "      <td>100</td>\n",
       "      <td>19.600</td>\n",
       "      <td>100</td>\n",
       "      <td>2.800</td>\n",
       "    </tr>\n",
       "    <tr>\n",
       "      <th>14</th>\n",
       "      <td>3</td>\n",
       "      <td>100</td>\n",
       "      <td>22.500</td>\n",
       "      <td>100</td>\n",
       "      <td>4.300</td>\n",
       "    </tr>\n",
       "    <tr>\n",
       "      <th>15</th>\n",
       "      <td>4</td>\n",
       "      <td>45118</td>\n",
       "      <td>35.000</td>\n",
       "      <td>137</td>\n",
       "      <td>2.304</td>\n",
       "    </tr>\n",
       "    <tr>\n",
       "      <th>16</th>\n",
       "      <td>4</td>\n",
       "      <td>23198</td>\n",
       "      <td>34.900</td>\n",
       "      <td>74</td>\n",
       "      <td>1.319</td>\n",
       "    </tr>\n",
       "    <tr>\n",
       "      <th>17</th>\n",
       "      <td>4</td>\n",
       "      <td>100</td>\n",
       "      <td>33.700</td>\n",
       "      <td>100</td>\n",
       "      <td>7.200</td>\n",
       "    </tr>\n",
       "    <tr>\n",
       "      <th>18</th>\n",
       "      <td>4</td>\n",
       "      <td>523</td>\n",
       "      <td>35.765</td>\n",
       "      <td>39</td>\n",
       "      <td>7.457</td>\n",
       "    </tr>\n",
       "    <tr>\n",
       "      <th>19</th>\n",
       "      <td>4</td>\n",
       "      <td>100</td>\n",
       "      <td>36.100</td>\n",
       "      <td>100</td>\n",
       "      <td>9.300</td>\n",
       "    </tr>\n",
       "    <tr>\n",
       "      <th>20</th>\n",
       "      <td>5</td>\n",
       "      <td>353</td>\n",
       "      <td>49.048</td>\n",
       "      <td>22</td>\n",
       "      <td>6.232</td>\n",
       "    </tr>\n",
       "    <tr>\n",
       "      <th>21</th>\n",
       "      <td>5</td>\n",
       "      <td>37</td>\n",
       "      <td>48.054</td>\n",
       "      <td>3</td>\n",
       "      <td>8.108</td>\n",
       "    </tr>\n",
       "    <tr>\n",
       "      <th>22</th>\n",
       "      <td>5</td>\n",
       "      <td>150</td>\n",
       "      <td>50.062</td>\n",
       "      <td>13</td>\n",
       "      <td>8.667</td>\n",
       "    </tr>\n",
       "    <tr>\n",
       "      <th>23</th>\n",
       "      <td>5</td>\n",
       "      <td>100</td>\n",
       "      <td>53.700</td>\n",
       "      <td>100</td>\n",
       "      <td>22.600</td>\n",
       "    </tr>\n",
       "    <tr>\n",
       "      <th>24</th>\n",
       "      <td>5</td>\n",
       "      <td>100</td>\n",
       "      <td>47.800</td>\n",
       "      <td>100</td>\n",
       "      <td>27.900</td>\n",
       "    </tr>\n",
       "  </tbody>\n",
       "</table>\n",
       "</div>"
      ],
      "text/plain": [
       "    ASA  morbidity_n7  morbidity_per7  mortality_n7  mortality_per7\n",
       "0     1           100           3.900           100           0.000\n",
       "1     1         23071           4.500             0           0.000\n",
       "2     1         92227           4.600             1           0.001\n",
       "3     1         43964           7.000            32           0.073\n",
       "4     1           100           5.200           100           0.600\n",
       "5     2        104997          10.900             2           0.502\n",
       "6     2        367161          11.000             9           0.782\n",
       "7     2         10626          12.600            24           0.226\n",
       "8     2           100          12.600           100           1.100\n",
       "9     2           100          11.400           100           1.600\n",
       "10    3        195829          23.000            54           0.028\n",
       "11    3         80649          20.200            28           0.035\n",
       "12    3          2928          24.281            42           1.434\n",
       "13    3           100          19.600           100           2.800\n",
       "14    3           100          22.500           100           4.300\n",
       "15    4         45118          35.000           137           2.304\n",
       "16    4         23198          34.900            74           1.319\n",
       "17    4           100          33.700           100           7.200\n",
       "18    4           523          35.765            39           7.457\n",
       "19    4           100          36.100           100           9.300\n",
       "20    5           353          49.048            22           6.232\n",
       "21    5            37          48.054             3           8.108\n",
       "22    5           150          50.062            13           8.667\n",
       "23    5           100          53.700           100          22.600\n",
       "24    5           100          47.800           100          27.900"
      ]
     },
     "execution_count": 4,
     "metadata": {},
     "output_type": "execute_result"
    }
   ],
   "source": [
    "df7=pd.read_excel('Desktop/Project/Metadata.xlsx',sheet_name='Risks7')\n",
    "df7"
   ]
  },
  {
   "cell_type": "code",
   "execution_count": 5,
   "metadata": {},
   "outputs": [
    {
     "data": {
      "text/plain": [
       "Text(3.5,17,'Mortality')"
      ]
     },
     "execution_count": 5,
     "metadata": {},
     "output_type": "execute_result"
    },
    {
     "data": {
      "image/png": "[encoded data removed]",
      "text/plain": [
       "<matplotlib.figure.Figure at 0x822549f2b0>"
      ]
     },
     "metadata": {},
     "output_type": "display_data"
    }
   ],
   "source": [
    "plt.plot(df7['ASA'],df7['morbidity_per7'])\n",
    "plt.text(3.5,45,'Morbidity',bbox=dict(facecolor='blue', alpha=0.1))\n",
    "plt.plot(df7['ASA'],df7['mortality_per7'])\n",
    "plt.text(3.5,17,'Mortality',bbox=dict(facecolor='orange', alpha=0.2))"
   ]
  },
  {
   "cell_type": "code",
   "execution_count": 6,
   "metadata": {},
   "outputs": [
    {
     "name": "stdout",
     "output_type": "stream",
     "text": [
      "Index(['Intercept', 'morbidity_n7', 'ASA'], dtype='object')\n"
     ]
    },
    {
     "data": {
      "text/plain": [
       "24.696399999999997"
      ]
     },
     "execution_count": 6,
     "metadata": {},
     "output_type": "execute_result"
    }
   ],
   "source": [
    "y, X = patsy.dmatrices('morbidity_per7 ~ morbidity_n7 + ASA', df7, return_type=\"dataframe\")\n",
    "print (X.columns)\n",
    "y = np.ravel(y)\n",
    "model = LinearRegression()\n",
    "model = model.fit(X, y)\n",
    "model.score(X, y)\n",
    "y.mean()"
   ]
  },
  {
   "cell_type": "code",
   "execution_count": 7,
   "metadata": {},
   "outputs": [
    {
     "name": "stdout",
     "output_type": "stream",
     "text": [
      "[13.21706043  2.11780746 36.46759767 36.28130222 24.61568626 47.66944299\n",
      " 36.46759767 47.66984626]\n"
     ]
    }
   ],
   "source": [
    "X_train, X_test, y_train, y_test = train_test_split(X, y, test_size=0.3, random_state=0)\n",
    "model2 = LinearRegression()\n",
    "model2.fit(X_train, y_train)\n",
    "predicted = model2.predict(X_test)\n",
    "print (predicted)"
   ]
  },
  {
   "cell_type": "code",
   "execution_count": 8,
   "metadata": {},
   "outputs": [
    {
     "name": "stdout",
     "output_type": "stream",
     "text": [
      "Index(['Intercept', 'mortality_n7', 'ASA'], dtype='object')\n"
     ]
    },
    {
     "data": {
      "text/plain": [
       "4.58272"
      ]
     },
     "execution_count": 8,
     "metadata": {},
     "output_type": "execute_result"
    }
   ],
   "source": [
    "y, X = patsy.dmatrices('mortality_per7 ~ mortality_n7 + ASA', df7, return_type=\"dataframe\")\n",
    "print (X.columns)\n",
    "y = np.ravel(y)\n",
    "model = LinearRegression()\n",
    "model = model.fit(X, y)\n",
    "model.score(X, y)\n",
    "y.mean()"
   ]
  },
  {
   "cell_type": "code",
   "execution_count": 9,
   "metadata": {},
   "outputs": [
    {
     "name": "stdout",
     "output_type": "stream",
     "text": [
      "[ 0.42031327 -2.40680919  7.56384283  7.16049491  3.63527028  9.02578772\n",
      "  7.56384283 10.37545192]\n"
     ]
    }
   ],
   "source": [
    "X_train, X_test, y_train, y_test = train_test_split(X, y, test_size=0.3, random_state=0)\n",
    "model2 = LinearRegression()\n",
    "model2.fit(X_train, y_train)\n",
    "predicted = model2.predict(X_test)\n",
    "print (predicted)"
   ]
  },
  {
   "cell_type": "code",
   "execution_count": null,
   "metadata": {},
   "outputs": [],
   "source": []
  }
 ],
 "metadata": {
  "kernelspec": {
   "display_name": "Python 3",
   "language": "python",
   "name": "python3"
  },
  "language_info": {
   "codemirror_mode": {
    "name": "ipython",
    "version": 3
   },
   "file_extension": ".py",
   "mimetype": "text/x-python",
   "name": "python",
   "nbconvert_exporter": "python",
   "pygments_lexer": "ipython3",
   "version": "3.6.4"
  }
 },
 "nbformat": 4,
 "nbformat_minor": 2
}
